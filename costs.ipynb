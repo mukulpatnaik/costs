{
 "cells": [
  {
   "cell_type": "code",
   "execution_count": 1,
   "metadata": {},
   "outputs": [],
   "source": [
    "import os\n",
    "import tiktoken"
   ]
  },
  {
   "cell_type": "code",
   "execution_count": 2,
   "metadata": {},
   "outputs": [],
   "source": [
    "def list_subdirectories(directory_path):\n",
    "    subdirectories = {}\n",
    "    for item in os.listdir(directory_path):\n",
    "        item_path = os.path.join(directory_path, item)\n",
    "        if os.path.isdir(item_path):\n",
    "            subdirectories[str(item)] = item_path\n",
    "    return subdirectories"
   ]
  },
  {
   "cell_type": "code",
   "execution_count": 3,
   "metadata": {},
   "outputs": [],
   "source": [
    "def scrape_text(directory_path):\n",
    "    for root, dirs, files in os.walk(directory_path):\n",
    "        for file in files:\n",
    "            if file.endswith(\".txt\"):\n",
    "                file_path = os.path.join(root, file)\n",
    "                with open(file_path, \"r\") as f:\n",
    "                    text = f.read()\n",
    "                    return str(text)\n"
   ]
  },
  {
   "cell_type": "code",
   "execution_count": 4,
   "metadata": {},
   "outputs": [],
   "source": [
    "def num_tokens_from_string(string: str, encoding_name: str) -> int:\n",
    "    encoding = tiktoken.encoding_for_model(encoding_name)\n",
    "    num_tokens = len(encoding.encode(string))\n",
    "    cost = round(num_tokens * 0.0004 / 1000, 4)\n",
    "    print('The number of tokens in the above corpus is: ' + str(num_tokens) + ' tokens')\n",
    "    print('The cost to run the model on the above corpus is: $' + str(cost) + ' dollars')\n",
    "    return num_tokens, cost"
   ]
  },
  {
   "cell_type": "code",
   "execution_count": 5,
   "metadata": {},
   "outputs": [
    {
     "name": "stdout",
     "output_type": "stream",
     "text": [
      "\n",
      "Company: AMZN\n",
      "\n",
      "The number of tokens in the above corpus is: 9872 tokens\n",
      "The cost to run the model on the above corpus is: $0.0039 dollars\n",
      "\n",
      "Company: AAPL\n",
      "\n",
      "The number of tokens in the above corpus is: 114482 tokens\n",
      "The cost to run the model on the above corpus is: $0.0458 dollars\n",
      "\n",
      "Company: SHEL\n",
      "\n",
      "The number of tokens in the above corpus is: 215418 tokens\n",
      "The cost to run the model on the above corpus is: $0.0862 dollars\n",
      "\n",
      "Company: MSFT\n",
      "\n",
      "The number of tokens in the above corpus is: 12594 tokens\n",
      "The cost to run the model on the above corpus is: $0.005 dollars\n",
      "\n",
      "Company: ORCL\n",
      "\n",
      "The number of tokens in the above corpus is: 231301 tokens\n",
      "The cost to run the model on the above corpus is: $0.0925 dollars\n",
      "\n",
      "Company: BA\n",
      "\n",
      "The number of tokens in the above corpus is: 54 tokens\n",
      "The cost to run the model on the above corpus is: $0.0 dollars\n",
      "\n",
      "Total number of tokens in directory: 583721 tokens\n",
      "Total cost to run the model on the directory: $0.2334 dollars\n"
     ]
    }
   ],
   "source": [
    "directory_path = \"/Users/mukul/Downloads/company\"\n",
    "paths = list_subdirectories(directory_path)\n",
    "total_tokens = 0\n",
    "total_cost = 0\n",
    "for path in paths:\n",
    "    print('')\n",
    "    print('Company: ' + str(path))\n",
    "    print('')\n",
    "    company_text = scrape_text(paths[path])\n",
    "    if company_text:\n",
    "        company_tokens, company_cost = num_tokens_from_string(company_text, \"text-embedding-ada-002\")\n",
    "        total_tokens += company_tokens\n",
    "        total_cost += company_cost\n",
    "print('')\n",
    "print('Total number of tokens in directory: ' + str(total_tokens) + ' tokens')\n",
    "print('Total cost to run the model on the directory: $' + str(total_cost) + ' dollars')"
   ]
  }
 ],
 "metadata": {
  "kernelspec": {
   "display_name": "Python 3",
   "language": "python",
   "name": "python3"
  },
  "language_info": {
   "codemirror_mode": {
    "name": "ipython",
    "version": 3
   },
   "file_extension": ".py",
   "mimetype": "text/x-python",
   "name": "python",
   "nbconvert_exporter": "python",
   "pygments_lexer": "ipython3",
   "version": "3.10.10"
  },
  "orig_nbformat": 4,
  "vscode": {
   "interpreter": {
    "hash": "b0fa6594d8f4cbf19f97940f81e996739fb7646882a419484c72d19e05852a7e"
   }
  }
 },
 "nbformat": 4,
 "nbformat_minor": 2
}
